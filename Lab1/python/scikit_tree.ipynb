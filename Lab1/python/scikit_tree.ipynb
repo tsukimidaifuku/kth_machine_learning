{
 "cells": [
  {
   "cell_type": "markdown",
   "metadata": {},
   "source": [
    "## Make decision tree using by Scikit-learn"
   ]
  },
  {
   "cell_type": "code",
   "execution_count": 11,
   "metadata": {},
   "outputs": [],
   "source": [
    "import monkdata as m\n",
    "import numpy as np"
   ]
  },
  {
   "cell_type": "markdown",
   "metadata": {},
   "source": [
    "### Data Pre-Processing"
   ]
  },
  {
   "cell_type": "code",
   "execution_count": 12,
   "metadata": {},
   "outputs": [],
   "source": [
    "def dataset(data):\n",
    "    value = []\n",
    "    target = []\n",
    "\n",
    "    for i in data:\n",
    "        value.append(i.attribute)\n",
    "        target.append(i.positive)\n",
    "\n",
    "    values_list = [list(d.values()) for d in value]\n",
    "    values = np.array(values_list)\n",
    "\n",
    "    target = [int(i) for i in target]\n",
    "    targets = np.array(target)\n",
    "\n",
    "    return values, targets"
   ]
  },
  {
   "cell_type": "markdown",
   "metadata": {},
   "source": [
    "### Build Tree"
   ]
  },
  {
   "cell_type": "code",
   "execution_count": 13,
   "metadata": {},
   "outputs": [],
   "source": [
    "from sklearn.tree import DecisionTreeClassifier"
   ]
  },
  {
   "cell_type": "code",
   "execution_count": 14,
   "metadata": {},
   "outputs": [],
   "source": [
    "def build_tree(data):\n",
    "    values, targets = dataset(data)\n",
    "    clf = DecisionTreeClassifier(criterion='entropy')\n",
    "    clf = clf.fit(values, targets)\n",
    "    return clf"
   ]
  },
  {
   "cell_type": "code",
   "execution_count": 15,
   "metadata": {},
   "outputs": [],
   "source": [
    "def evaluate_tree(tree, test_data):\n",
    "    values, targets = dataset(test_data)\n",
    "    predicted = tree.predict(values)\n",
    "    return sum(predicted == targets) / len(targets)"
   ]
  },
  {
   "cell_type": "markdown",
   "metadata": {},
   "source": [
    "### Visualize"
   ]
  },
  {
   "cell_type": "code",
   "execution_count": 16,
   "metadata": {},
   "outputs": [],
   "source": [
    "from pydotplus import graph_from_dot_data\n",
    "from sklearn.tree import export_graphviz"
   ]
  },
  {
   "cell_type": "code",
   "execution_count": 17,
   "metadata": {},
   "outputs": [],
   "source": [
    "def visualize_tree(tree, file_name):\n",
    "    dot_data = export_graphviz(tree, out_file=None,\n",
    "                         filled=True, rounded=True)\n",
    "    graph = graph_from_dot_data(dot_data)\n",
    "    graph.progs = {'dot': u\"C:\\\\Program Files\\\\Graphviz\\\\bin\\\\dot.exe\"}\n",
    "    graph.write_png(file_name)"
   ]
  },
  {
   "cell_type": "markdown",
   "metadata": {},
   "source": [
    "## Run the Code"
   ]
  },
  {
   "cell_type": "code",
   "execution_count": 18,
   "metadata": {},
   "outputs": [
    {
     "name": "stdout",
     "output_type": "stream",
     "text": [
      "0.8935185185185185\n",
      "0.8194444444444444\n",
      "0.9004629629629629\n"
     ]
    }
   ],
   "source": [
    "datasets = [[m.monk1, m.monk1test], [m.monk2, m.monk2test], [m.monk3, m.monk3test]]\n",
    "\n",
    "for i in datasets:\n",
    "    tree = build_tree(i[0])\n",
    "    eval = evaluate_tree(tree, i[1])\n",
    "    print(eval)\n",
    "    \n",
    "    file_name = f'monk{datasets.index(i)+1}.png'\n",
    "    visualize_tree(tree, file_name)\n",
    "\n"
   ]
  },
  {
   "cell_type": "code",
   "execution_count": 19,
   "metadata": {},
   "outputs": [
    {
     "name": "stdout",
     "output_type": "stream",
     "text": [
      "1.0\n",
      "1.0\n",
      "1.0\n"
     ]
    }
   ],
   "source": [
    "for i in datasets:\n",
    "    tree = build_tree(i[0])\n",
    "    eval = evaluate_tree(tree, i[0])\n",
    "    print(eval)"
   ]
  }
 ],
 "metadata": {
  "kernelspec": {
   "display_name": "Python 3",
   "language": "python",
   "name": "python3"
  },
  "language_info": {
   "codemirror_mode": {
    "name": "ipython",
    "version": 3
   },
   "file_extension": ".py",
   "mimetype": "text/x-python",
   "name": "python",
   "nbconvert_exporter": "python",
   "pygments_lexer": "ipython3",
   "version": "3.11.3"
  }
 },
 "nbformat": 4,
 "nbformat_minor": 2
}
