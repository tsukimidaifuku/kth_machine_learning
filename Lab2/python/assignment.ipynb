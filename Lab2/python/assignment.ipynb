{
 "cells": [
  {
   "cell_type": "markdown",
   "metadata": {},
   "source": [
    "# SVM"
   ]
  },
  {
   "cell_type": "code",
   "execution_count": 1,
   "metadata": {},
   "outputs": [],
   "source": [
    "import numpy as np\n",
    "import matplotlib.pyplot as plt\n",
    "import random\n",
    "from scipy.optimize import minimize\n",
    "from functools import partial"
   ]
  },
  {
   "cell_type": "markdown",
   "metadata": {},
   "source": [
    "## Implement Functions"
   ]
  },
  {
   "cell_type": "markdown",
   "metadata": {},
   "source": [
    "### Kernels"
   ]
  },
  {
   "cell_type": "code",
   "execution_count": 2,
   "metadata": {},
   "outputs": [],
   "source": [
    "def kernel_linear(x1, x2):\n",
    "    return np.dot(x1, x2)\n",
    "\n",
    "def kernel_polynomial(x1, x2, p):\n",
    "    return (np.dot(x1, x2) + 1) ** p\n",
    "\n",
    "def kernel_RBF(x1, x2, sigma):\n",
    "    return np.exp(-np.linalg.norm(x1 - x2) ** 2 / (2 * sigma ** 2))"
   ]
  },
  {
   "cell_type": "markdown",
   "metadata": {},
   "source": [
    "### Objectives"
   ]
  },
  {
   "cell_type": "code",
   "execution_count": 3,
   "metadata": {},
   "outputs": [],
   "source": [
    "def global_var(t, x, kernel):\n",
    "    P = np.zeros((len(x), len(x)))\n",
    "    for i in range(len(x)):\n",
    "        for j in range(len(x)):\n",
    "            P[i][j] = t[i] * t[j] * kernel(x[i], x[j])\n",
    "    return P\n",
    "\n",
    "def objective_func(P):\n",
    "    def objective(alpha):\n",
    "        return 0.5 * np.dot(np.dot(P, alpha), alpha) - np.sum(alpha)\n",
    "    return objective"
   ]
  },
  {
   "cell_type": "markdown",
   "metadata": {},
   "source": [
    "### Constraints"
   ]
  },
  {
   "cell_type": "code",
   "execution_count": 4,
   "metadata": {},
   "outputs": [],
   "source": [
    "def zerofun(t):\n",
    "    def h(alpha):\n",
    "        return np.dot(alpha, t)\n",
    "    return h"
   ]
  },
  {
   "cell_type": "markdown",
   "metadata": {},
   "source": [
    "### Minimize"
   ]
  },
  {
   "cell_type": "code",
   "execution_count": 5,
   "metadata": {},
   "outputs": [],
   "source": [
    "def minimize_alpha(t, x, C, kernel):\n",
    "    start = np.zeros(len(x))\n",
    "    bounds = [(0, C) for b in range(len(x))]\n",
    "    constraints = {'type':'eq', 'fun':zerofun(t)}\n",
    "    P = global_var(t, x, kernel)\n",
    "    ret = minimize(objective_func(P), start, bounds=bounds, constraints=constraints)\n",
    "\n",
    "    alpha = ret['x']\n",
    "    success = ret['success']\n",
    "    return alpha, success\n",
    "\n"
   ]
  },
  {
   "cell_type": "markdown",
   "metadata": {},
   "source": [
    "### Extract Non-Zero Values"
   ]
  },
  {
   "cell_type": "code",
   "execution_count": 6,
   "metadata": {},
   "outputs": [],
   "source": [
    "def extract_nonzero_alpha(t, x, C, kernel):\n",
    "    alpha, success = minimize_alpha(t, x, C, kernel)\n",
    "    if success:\n",
    "        non_zero_list = []\n",
    "        for i in range(len(alpha)):\n",
    "            if alpha[i] > 10 ** -5:\n",
    "                list_tmp = [alpha[i], t[i], x[i]]\n",
    "                non_zero_list.append(list_tmp)\n",
    "        return non_zero_list\n",
    "    else:\n",
    "        return \"Failed\""
   ]
  },
  {
   "cell_type": "markdown",
   "metadata": {},
   "source": [
    "### Calculate Offset b for the hyperplane"
   ]
  },
  {
   "cell_type": "code",
   "execution_count": 7,
   "metadata": {},
   "outputs": [],
   "source": [
    "def b_value(non_zero_list, kernel):\n",
    "    b_sum = 0\n",
    "    for i in range(len(non_zero_list)):\n",
    "        b_sum += non_zero_list[i][0] * non_zero_list[i][1] * kernel(non_zero_list[i][2], non_zero_list[0][2])\n",
    "    return b_sum - non_zero_list[0][1]"
   ]
  },
  {
   "cell_type": "markdown",
   "metadata": {},
   "source": [
    "### Indicator"
   ]
  },
  {
   "cell_type": "code",
   "execution_count": 8,
   "metadata": {},
   "outputs": [],
   "source": [
    "def indicator(x_data, non_zero_list, kernel):\n",
    "    sum = 0\n",
    "    for i in range(len(non_zero_list)):\n",
    "        sum += non_zero_list[i][0] * non_zero_list[i][1] * kernel(non_zero_list[i][2], x_data)\n",
    "    return sum - b_value(non_zero_list, kernel)"
   ]
  },
  {
   "cell_type": "markdown",
   "metadata": {},
   "source": [
    "## Generating Test Data"
   ]
  },
  {
   "cell_type": "code",
   "execution_count": 49,
   "metadata": {},
   "outputs": [],
   "source": [
    "# np.random.seed(42)"
   ]
  },
  {
   "cell_type": "code",
   "execution_count": 90,
   "metadata": {},
   "outputs": [],
   "source": [
    "classA = np.concatenate(\n",
    "    (np.random.randn(20, 2) * 0.5 + [1.0, 0.5],\n",
    "    np.random.randn(20, 2) * 0.5 + [-1.0, 0.5])\n",
    ")\n",
    "\n",
    "classB = np.random.randn(40, 2) * 0.2 + [0.0, -0.5]\n",
    "\n",
    "inputs = np.concatenate((classA, classB))\n",
    "targets = np.concatenate(\n",
    "    (np.ones(classA.shape[0]),\n",
    "    -np.ones(classB.shape[0]))\n",
    ")\n",
    "\n",
    "N = inputs.shape[0]\n",
    "\n",
    "permute = list(range(N))\n",
    "random.shuffle(permute)\n",
    "inputs = inputs[permute, :]\n",
    "targets = targets[permute]\n"
   ]
  },
  {
   "cell_type": "markdown",
   "metadata": {},
   "source": [
    "### Plotting"
   ]
  },
  {
   "cell_type": "code",
   "execution_count": 91,
   "metadata": {},
   "outputs": [
    {
     "data": {
      "image/png": "[encoded data removed]",
      "text/plain": [
       "<Figure size 640x480 with 1 Axes>"
      ]
     },
     "metadata": {},
     "output_type": "display_data"
    }
   ],
   "source": [
    "plt.plot([p[0] for p in classA], [p[1] for p in classA], 'b.')\n",
    "plt.plot([p[0] for p in classB], [p[1] for p in classB], 'r.')\n",
    "\n",
    "plt.axis('equal')\n",
    "plt.savefig('svmplot.pdf')\n",
    "plt.show()"
   ]
  },
  {
   "cell_type": "markdown",
   "metadata": {},
   "source": [
    "### Data Processing"
   ]
  },
  {
   "cell_type": "code",
   "execution_count": 11,
   "metadata": {},
   "outputs": [
    {
     "data": {
      "text/plain": [
       "array([[ 1.39481458, -0.12001188],\n",
       "       [ 0.08478708, -0.27617137],\n",
       "       [-1.65527834,  0.16466489],\n",
       "       [ 1.6811758 ,  0.33134398],\n",
       "       [-0.25142088, -0.44720659],\n",
       "       [-1.14065766,  0.24219357],\n",
       "       [ 0.23714616, -0.50260052],\n",
       "       [-1.42292174,  0.65156121],\n",
       "       [-1.28421534,  0.95333109],\n",
       "       [-0.16752231, -0.62163662],\n",
       "       [-1.41886594,  0.85911109],\n",
       "       [ 1.66239425,  0.52939309],\n",
       "       [-1.4550686 ,  0.28145784],\n",
       "       [-0.06549495, -0.0424619 ],\n",
       "       [-0.29982208, -0.55805312],\n",
       "       [-0.06178637, -0.1405985 ],\n",
       "       [ 0.18643094, -0.5826745 ],\n",
       "       [ 0.27798192, -0.55429709],\n",
       "       [ 0.15030904, -0.40067874],\n",
       "       [ 0.05217812, -0.49285993],\n",
       "       [ 1.3538894 ,  0.41741865],\n",
       "       [-1.62185928,  0.51144878],\n",
       "       [-1.2638611 ,  0.80647683],\n",
       "       [-1.85566982,  0.35906639],\n",
       "       [-0.02170851, -0.59180808],\n",
       "       [-1.51438523,  0.64206862],\n",
       "       [ 0.22200964, -0.65970885],\n",
       "       [ 0.23930497, -0.41831629],\n",
       "       [ 0.1554367 , -0.87799539],\n",
       "       [-0.12426741, -0.39200081],\n",
       "       [ 1.81598518,  0.44765327],\n",
       "       [ 1.27297397,  0.70657205],\n",
       "       [ 1.40212524,  0.73957678],\n",
       "       [-0.17599156, -0.23517964],\n",
       "       [ 0.14999522, -0.3612477 ],\n",
       "       [ 0.1296818 , -0.49480099],\n",
       "       [ 1.37692919,  0.64558096],\n",
       "       [ 1.57053072,  0.44803797],\n",
       "       [ 1.4931995 ,  0.49205665],\n",
       "       [ 0.14585816, -0.15733002]])"
      ]
     },
     "execution_count": 11,
     "metadata": {},
     "output_type": "execute_result"
    }
   ],
   "source": [
    "inputs"
   ]
  },
  {
   "cell_type": "markdown",
   "metadata": {},
   "source": [
    "## Calculating Decision Boundary"
   ]
  },
  {
   "cell_type": "code",
   "execution_count": 109,
   "metadata": {},
   "outputs": [
    {
     "data": {
      "image/png": "[encoded data removed]",
      "text/plain": [
       "<Figure size 640x480 with 1 Axes>"
      ]
     },
     "metadata": {},
     "output_type": "display_data"
    }
   ],
   "source": [
    "xgrid = np.linspace(-2, 2)\n",
    "ygrid = np.linspace(-2, 2)\n",
    "\n",
    "kernel_polynomial_p = partial(kernel_polynomial, p=3)\n",
    "kernel_RBF_sigma = partial(kernel_RBF, sigma=0.6)\n",
    "non_zero_list = extract_nonzero_alpha(targets, inputs, 50, kernel_polynomial_p)\n",
    "\n",
    "grid = np.array(\n",
    "    [[indicator([x, y], non_zero_list, kernel_polynomial_p) \n",
    "      for x in xgrid] \n",
    "      for y in ygrid])\n",
    "\n",
    "plt.contour(xgrid, ygrid, grid,\n",
    "            (-1.0, 0.0, 1.0),\n",
    "            colors=('red', 'black', 'blue'),\n",
    "            linewidths=(1, 2, 1))\n",
    "\n",
    "plt.plot([p[0] for p in classA], [p[1] for p in classA], 'b.')\n",
    "plt.plot([p[0] for p in classB], [p[1] for p in classB], 'r.')\n",
    "\n",
    "plt.axis('equal')\n",
    "plt.show()\n"
   ]
  }
 ],
 "metadata": {
  "kernelspec": {
   "display_name": "Python 3",
   "language": "python",
   "name": "python3"
  },
  "language_info": {
   "codemirror_mode": {
    "name": "ipython",
    "version": 3
   },
   "file_extension": ".py",
   "mimetype": "text/x-python",
   "name": "python",
   "nbconvert_exporter": "python",
   "pygments_lexer": "ipython3",
   "version": "3.11.3"
  }
 },
 "nbformat": 4,
 "nbformat_minor": 2
}
